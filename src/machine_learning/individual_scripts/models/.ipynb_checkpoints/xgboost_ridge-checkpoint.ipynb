{
 "cells": [
  {
   "cell_type": "code",
   "execution_count": 1,
   "id": "e8396c1f-fede-488d-af7b-e577d5b6f93e",
   "metadata": {},
   "outputs": [],
   "source": [
    "import pandas as pd\n",
    "import numpy as np\n",
    "import xgboost as xgb\n",
    "import os\n",
    "from sklearn.metrics import accuracy_score, mean_absolute_error, mean_squared_error, r2_score, \\\n",
    "roc_curve, auc, precision_score, recall_score, confusion_matrix, precision_recall_curve"
   ]
  },
  {
   "cell_type": "code",
   "execution_count": 2,
   "id": "50ce19dd-e215-41c4-8dd4-0787b0e02761",
   "metadata": {},
   "outputs": [],
   "source": [
    "# Directory where the CSV files are stored\n",
    "data_dir = 'ridge_subsets'\n",
    "splits = 10 # from what we decided\n",
    "\n",
    "# Initialize lists to store data splits\n",
    "X_train_list, X_test_list, log_X_train_list, log_X_test_list = [], [], [], []\n",
    "y_train_list, y_test_list = [], [] # same response variables no matter the X transformation\n",
    "\n",
    "# Iterate over each split index\n",
    "for i in range(1, splits + 1):\n",
    "    X_train_file = os.path.join(data_dir, f'train_selected_{i}.csv') # load selected features\n",
    "    X_test_file = os.path.join(data_dir, f'test_selected_{i}.csv')\n",
    "    train_file = os.path.join(f'datasets/train_{i}.csv') # load y train and test separately\n",
    "    test_file = os.path.join(f'datasets/test_{i}.csv')\n",
    "\n",
    "    # Read training data and split into X_train and y_train\n",
    "    train_df = pd.read_csv(train_file)\n",
    "    X_train = pd.read_csv(X_train_file)\n",
    "    y_train = train_df['mtx_binary']\n",
    "    \n",
    "    # Read test data and split into X_test and y_test\n",
    "    test_df = pd.read_csv(test_file)\n",
    "    X_test = pd.read_csv(X_test_file)\n",
    "    y_test = test_df['mtx_binary']\n",
    "    \n",
    "    # Append to respective lists\n",
    "    X_train_list.append(X_train)\n",
    "    X_test_list.append(X_test)\n",
    "    y_train_list.append(y_train)\n",
    "    y_test_list.append(y_test)"
   ]
  },
  {
   "cell_type": "code",
   "execution_count": 22,
   "id": "6f532aab-d3ce-4338-b16f-2061eda7b2b9",
   "metadata": {
    "scrolled": true
   },
   "outputs": [
    {
     "name": "stdout",
     "output_type": "stream",
     "text": [
      "Split 1 - AUC: 0.33333333333333337, Accuracy: 0.6666666666666666, Precision: 0.6, TPR: 1.0, FPR: 0.6666666666666666\n",
      "Split 2 - AUC: 0.5555555555555556, Accuracy: 0.3333333333333333, Precision: 0.4, TPR: 0.6666666666666666, FPR: 1.0\n",
      "Split 3 - AUC: 0.4444444444444445, Accuracy: 0.5, Precision: 0.5, TPR: 1.0, FPR: 1.0\n",
      "Split 4 - AUC: 0.125, Accuracy: 0.3333333333333333, Precision: 0.5, TPR: 0.5, FPR: 1.0\n",
      "Split 5 - AUC: 0.875, Accuracy: 0.8333333333333334, Precision: 0.8, TPR: 1.0, FPR: 0.5\n",
      "Split 6 - AUC: 1.0, Accuracy: 1.0, Precision: 1.0, TPR: 1.0, FPR: 0.0\n",
      "Split 7 - AUC: 0.875, Accuracy: 0.8333333333333334, Precision: 0.8, TPR: 1.0, FPR: 0.5\n",
      "Split 8 - AUC: 0.875, Accuracy: 0.6666666666666666, Precision: 0.6666666666666666, TPR: 1.0, FPR: 1.0\n",
      "Split 9 - AUC: 0.5, Accuracy: 0.6666666666666666, Precision: 0.6666666666666666, TPR: 1.0, FPR: 1.0\n",
      "Split 10 - AUC: 0.125, Accuracy: 0.3333333333333333, Precision: 0.5, TPR: 0.5, FPR: 1.0\n",
      "Mean AUC:  0.5708333333333334\n",
      "Mean Accuracy:  0.6166666666666667\n",
      "Mean Precision:  0.6433333333333333\n",
      "Mean Recall (TPR):  0.8666666666666666\n",
      "Mean FPR:  0.7666666666666666\n"
     ]
    }
   ],
   "source": [
    "# initialize lists for metrics\n",
    "acc_list = []\n",
    "auc_list = []\n",
    "prec_list = []\n",
    "tpr_list = []\n",
    "fpr_list = []\n",
    "\n",
    "# Perform on the folds\n",
    "for i in range(1, splits + 1):\n",
    "    X_train = X_train_list[i - 1]\n",
    "    X_test = X_test_list[i - 1]\n",
    "    y_train = y_train_list[i - 1]\n",
    "    y_test = y_test_list[i - 1]\n",
    "    # fit model\n",
    "    xgb_model = xgb.XGBClassifier(objective = 'binary:logistic', random_state=42,\n",
    "                                                         use_label_encoder=False, scale_pos_weight=10)\n",
    "    xgb_model.fit(X_train, y_train)\n",
    "    y_pred_proba = xgb_model.predict_proba(X_test)[:,1]\n",
    "    y_pred = xgb_model.predict(X_test)\n",
    "    # calculate metrics\n",
    "    # ROC AUC\n",
    "    fprs, tprs, thresholds = roc_curve(y_test, y_pred_proba)\n",
    "    roc_auc = auc(fprs, tprs)\n",
    "    accuracy = accuracy_score(y_test, y_pred)\n",
    "    precision = precision_score(y_test, y_pred)\n",
    "    tpr = recall_score(y_test, y_pred) # redefine as a value not a vector from before\n",
    "    tn, fp, fn, tp = confusion_matrix(y_test, y_pred, labels=[0, 1]).ravel() # retrieve to calculate fpr\n",
    "    fpr = fp / (fp + tn)\n",
    "    # append metrics for averages\n",
    "    acc_list.append(accuracy)\n",
    "    auc_list.append(roc_auc)\n",
    "    prec_list.append(precision)\n",
    "    tpr_list.append(tpr)\n",
    "    fpr_list.append(fpr)\n",
    "    \n",
    "    print(f\"Split {i} - AUC: {roc_auc}, Accuracy: {accuracy}, Precision: {precision}, TPR: {tpr}, FPR: {fpr}\")\n",
    "\n",
    "# Report avg metrics\n",
    "print(\"Mean AUC: \", np.mean(auc_list))\n",
    "print(\"Mean Accuracy: \", np.mean(acc_list))\n",
    "print(\"Mean Precision: \", np.mean(prec_list))\n",
    "print(\"Mean Recall (TPR): \", np.mean(tpr_list))\n",
    "print(\"Mean FPR: \", np.mean(fpr_list))"
   ]
  },
  {
   "cell_type": "code",
   "execution_count": null,
   "id": "7617193e-fef9-4617-ad86-6bc3874939a3",
   "metadata": {},
   "outputs": [],
   "source": []
  },
  {
   "cell_type": "code",
   "execution_count": null,
   "id": "53bea3e2-c2fe-4931-985e-8c63f8970c14",
   "metadata": {},
   "outputs": [],
   "source": []
  }
 ],
 "metadata": {
  "kernelspec": {
   "display_name": "Python 3 (ipykernel)",
   "language": "python",
   "name": "python3"
  },
  "language_info": {
   "codemirror_mode": {
    "name": "ipython",
    "version": 3
   },
   "file_extension": ".py",
   "mimetype": "text/x-python",
   "name": "python",
   "nbconvert_exporter": "python",
   "pygments_lexer": "ipython3",
   "version": "3.11.0"
  }
 },
 "nbformat": 4,
 "nbformat_minor": 5
}
